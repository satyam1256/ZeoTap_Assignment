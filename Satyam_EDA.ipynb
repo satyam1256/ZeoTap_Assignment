{
 "cells": [
  {
   "cell_type": "code",
   "execution_count": 1,
   "metadata": {},
   "outputs": [],
   "source": [
    "import pandas as pd\n",
    "import numpy as np \n",
    "import matplotlib.pyplot as plt \n",
    "import seaborn as sns\n"
   ]
  },
  {
   "cell_type": "markdown",
   "metadata": {},
   "source": [
    "## `Data Loading`"
   ]
  },
  {
   "cell_type": "code",
   "execution_count": 5,
   "metadata": {},
   "outputs": [],
   "source": [
    "cust = pd.read_csv('data/Customers.csv')\n",
    "trans = pd.read_csv('data/Transactions.csv')\n",
    "prod = pd.read_csv('data/Products.csv')"
   ]
  },
  {
   "cell_type": "code",
   "execution_count": 6,
   "metadata": {},
   "outputs": [
    {
     "data": {
      "text/html": [
       "<div>\n",
       "<style scoped>\n",
       "    .dataframe tbody tr th:only-of-type {\n",
       "        vertical-align: middle;\n",
       "    }\n",
       "\n",
       "    .dataframe tbody tr th {\n",
       "        vertical-align: top;\n",
       "    }\n",
       "\n",
       "    .dataframe thead th {\n",
       "        text-align: right;\n",
       "    }\n",
       "</style>\n",
       "<table border=\"1\" class=\"dataframe\">\n",
       "  <thead>\n",
       "    <tr style=\"text-align: right;\">\n",
       "      <th></th>\n",
       "      <th>CustomerID</th>\n",
       "      <th>CustomerName</th>\n",
       "      <th>Region</th>\n",
       "      <th>SignupDate</th>\n",
       "    </tr>\n",
       "  </thead>\n",
       "  <tbody>\n",
       "    <tr>\n",
       "      <th>190</th>\n",
       "      <td>C0191</td>\n",
       "      <td>Samantha Gibson DVM</td>\n",
       "      <td>South America</td>\n",
       "      <td>2024-04-07</td>\n",
       "    </tr>\n",
       "    <tr>\n",
       "      <th>173</th>\n",
       "      <td>C0174</td>\n",
       "      <td>Tracy Steele</td>\n",
       "      <td>South America</td>\n",
       "      <td>2022-11-03</td>\n",
       "    </tr>\n",
       "    <tr>\n",
       "      <th>39</th>\n",
       "      <td>C0040</td>\n",
       "      <td>Michael Harrell</td>\n",
       "      <td>Asia</td>\n",
       "      <td>2022-03-07</td>\n",
       "    </tr>\n",
       "    <tr>\n",
       "      <th>35</th>\n",
       "      <td>C0036</td>\n",
       "      <td>Brian Aguilar DDS</td>\n",
       "      <td>North America</td>\n",
       "      <td>2024-07-06</td>\n",
       "    </tr>\n",
       "    <tr>\n",
       "      <th>82</th>\n",
       "      <td>C0083</td>\n",
       "      <td>Christina Stark</td>\n",
       "      <td>South America</td>\n",
       "      <td>2022-04-07</td>\n",
       "    </tr>\n",
       "    <tr>\n",
       "      <th>96</th>\n",
       "      <td>C0097</td>\n",
       "      <td>Tina Ford</td>\n",
       "      <td>Asia</td>\n",
       "      <td>2023-12-18</td>\n",
       "    </tr>\n",
       "    <tr>\n",
       "      <th>92</th>\n",
       "      <td>C0093</td>\n",
       "      <td>Nancy Walker</td>\n",
       "      <td>Asia</td>\n",
       "      <td>2024-07-13</td>\n",
       "    </tr>\n",
       "    <tr>\n",
       "      <th>17</th>\n",
       "      <td>C0018</td>\n",
       "      <td>Tyler Haynes</td>\n",
       "      <td>North America</td>\n",
       "      <td>2024-09-21</td>\n",
       "    </tr>\n",
       "    <tr>\n",
       "      <th>168</th>\n",
       "      <td>C0169</td>\n",
       "      <td>Jennifer Shaw</td>\n",
       "      <td>South America</td>\n",
       "      <td>2023-04-13</td>\n",
       "    </tr>\n",
       "    <tr>\n",
       "      <th>63</th>\n",
       "      <td>C0064</td>\n",
       "      <td>Martha Montgomery</td>\n",
       "      <td>Europe</td>\n",
       "      <td>2023-10-22</td>\n",
       "    </tr>\n",
       "  </tbody>\n",
       "</table>\n",
       "</div>"
      ],
      "text/plain": [
       "    CustomerID         CustomerName         Region  SignupDate\n",
       "190      C0191  Samantha Gibson DVM  South America  2024-04-07\n",
       "173      C0174         Tracy Steele  South America  2022-11-03\n",
       "39       C0040      Michael Harrell           Asia  2022-03-07\n",
       "35       C0036    Brian Aguilar DDS  North America  2024-07-06\n",
       "82       C0083      Christina Stark  South America  2022-04-07\n",
       "96       C0097            Tina Ford           Asia  2023-12-18\n",
       "92       C0093         Nancy Walker           Asia  2024-07-13\n",
       "17       C0018         Tyler Haynes  North America  2024-09-21\n",
       "168      C0169        Jennifer Shaw  South America  2023-04-13\n",
       "63       C0064    Martha Montgomery         Europe  2023-10-22"
      ]
     },
     "execution_count": 6,
     "metadata": {},
     "output_type": "execute_result"
    }
   ],
   "source": [
    "cust.sample(10)"
   ]
  },
  {
   "cell_type": "code",
   "execution_count": 7,
   "metadata": {},
   "outputs": [
    {
     "data": {
      "text/html": [
       "<div>\n",
       "<style scoped>\n",
       "    .dataframe tbody tr th:only-of-type {\n",
       "        vertical-align: middle;\n",
       "    }\n",
       "\n",
       "    .dataframe tbody tr th {\n",
       "        vertical-align: top;\n",
       "    }\n",
       "\n",
       "    .dataframe thead th {\n",
       "        text-align: right;\n",
       "    }\n",
       "</style>\n",
       "<table border=\"1\" class=\"dataframe\">\n",
       "  <thead>\n",
       "    <tr style=\"text-align: right;\">\n",
       "      <th></th>\n",
       "      <th>TransactionID</th>\n",
       "      <th>CustomerID</th>\n",
       "      <th>ProductID</th>\n",
       "      <th>TransactionDate</th>\n",
       "      <th>Quantity</th>\n",
       "      <th>TotalValue</th>\n",
       "      <th>Price</th>\n",
       "    </tr>\n",
       "  </thead>\n",
       "  <tbody>\n",
       "    <tr>\n",
       "      <th>256</th>\n",
       "      <td>T00386</td>\n",
       "      <td>C0116</td>\n",
       "      <td>P051</td>\n",
       "      <td>2024-09-03 03:40:56</td>\n",
       "      <td>4</td>\n",
       "      <td>260.64</td>\n",
       "      <td>65.16</td>\n",
       "    </tr>\n",
       "    <tr>\n",
       "      <th>289</th>\n",
       "      <td>T00450</td>\n",
       "      <td>C0104</td>\n",
       "      <td>P068</td>\n",
       "      <td>2024-08-23 02:14:14</td>\n",
       "      <td>1</td>\n",
       "      <td>447.23</td>\n",
       "      <td>447.23</td>\n",
       "    </tr>\n",
       "    <tr>\n",
       "      <th>81</th>\n",
       "      <td>T00749</td>\n",
       "      <td>C0133</td>\n",
       "      <td>P023</td>\n",
       "      <td>2024-06-20 19:04:58</td>\n",
       "      <td>2</td>\n",
       "      <td>909.06</td>\n",
       "      <td>454.53</td>\n",
       "    </tr>\n",
       "    <tr>\n",
       "      <th>383</th>\n",
       "      <td>T00275</td>\n",
       "      <td>C0018</td>\n",
       "      <td>P027</td>\n",
       "      <td>2024-02-17 18:50:52</td>\n",
       "      <td>4</td>\n",
       "      <td>916.24</td>\n",
       "      <td>229.06</td>\n",
       "    </tr>\n",
       "    <tr>\n",
       "      <th>873</th>\n",
       "      <td>T00643</td>\n",
       "      <td>C0137</td>\n",
       "      <td>P075</td>\n",
       "      <td>2024-05-21 09:00:57</td>\n",
       "      <td>3</td>\n",
       "      <td>1493.28</td>\n",
       "      <td>497.76</td>\n",
       "    </tr>\n",
       "    <tr>\n",
       "      <th>729</th>\n",
       "      <td>T00845</td>\n",
       "      <td>C0154</td>\n",
       "      <td>P083</td>\n",
       "      <td>2023-12-31 15:44:04</td>\n",
       "      <td>2</td>\n",
       "      <td>911.44</td>\n",
       "      <td>455.72</td>\n",
       "    </tr>\n",
       "    <tr>\n",
       "      <th>602</th>\n",
       "      <td>T00104</td>\n",
       "      <td>C0174</td>\n",
       "      <td>P063</td>\n",
       "      <td>2024-01-12 03:22:30</td>\n",
       "      <td>3</td>\n",
       "      <td>100.77</td>\n",
       "      <td>33.59</td>\n",
       "    </tr>\n",
       "    <tr>\n",
       "      <th>916</th>\n",
       "      <td>T00575</td>\n",
       "      <td>C0196</td>\n",
       "      <td>P079</td>\n",
       "      <td>2024-12-15 03:43:35</td>\n",
       "      <td>4</td>\n",
       "      <td>1669.48</td>\n",
       "      <td>417.37</td>\n",
       "    </tr>\n",
       "    <tr>\n",
       "      <th>996</th>\n",
       "      <td>T00759</td>\n",
       "      <td>C0059</td>\n",
       "      <td>P037</td>\n",
       "      <td>2024-06-04 02:15:24</td>\n",
       "      <td>3</td>\n",
       "      <td>1379.58</td>\n",
       "      <td>459.86</td>\n",
       "    </tr>\n",
       "    <tr>\n",
       "      <th>97</th>\n",
       "      <td>T00644</td>\n",
       "      <td>C0008</td>\n",
       "      <td>P095</td>\n",
       "      <td>2024-06-13 09:13:19</td>\n",
       "      <td>1</td>\n",
       "      <td>227.26</td>\n",
       "      <td>227.26</td>\n",
       "    </tr>\n",
       "  </tbody>\n",
       "</table>\n",
       "</div>"
      ],
      "text/plain": [
       "    TransactionID CustomerID ProductID      TransactionDate  Quantity  \\\n",
       "256        T00386      C0116      P051  2024-09-03 03:40:56         4   \n",
       "289        T00450      C0104      P068  2024-08-23 02:14:14         1   \n",
       "81         T00749      C0133      P023  2024-06-20 19:04:58         2   \n",
       "383        T00275      C0018      P027  2024-02-17 18:50:52         4   \n",
       "873        T00643      C0137      P075  2024-05-21 09:00:57         3   \n",
       "729        T00845      C0154      P083  2023-12-31 15:44:04         2   \n",
       "602        T00104      C0174      P063  2024-01-12 03:22:30         3   \n",
       "916        T00575      C0196      P079  2024-12-15 03:43:35         4   \n",
       "996        T00759      C0059      P037  2024-06-04 02:15:24         3   \n",
       "97         T00644      C0008      P095  2024-06-13 09:13:19         1   \n",
       "\n",
       "     TotalValue   Price  \n",
       "256      260.64   65.16  \n",
       "289      447.23  447.23  \n",
       "81       909.06  454.53  \n",
       "383      916.24  229.06  \n",
       "873     1493.28  497.76  \n",
       "729      911.44  455.72  \n",
       "602      100.77   33.59  \n",
       "916     1669.48  417.37  \n",
       "996     1379.58  459.86  \n",
       "97       227.26  227.26  "
      ]
     },
     "execution_count": 7,
     "metadata": {},
     "output_type": "execute_result"
    }
   ],
   "source": [
    "trans.sample(10)"
   ]
  },
  {
   "cell_type": "code",
   "execution_count": 8,
   "metadata": {},
   "outputs": [
    {
     "data": {
      "text/html": [
       "<div>\n",
       "<style scoped>\n",
       "    .dataframe tbody tr th:only-of-type {\n",
       "        vertical-align: middle;\n",
       "    }\n",
       "\n",
       "    .dataframe tbody tr th {\n",
       "        vertical-align: top;\n",
       "    }\n",
       "\n",
       "    .dataframe thead th {\n",
       "        text-align: right;\n",
       "    }\n",
       "</style>\n",
       "<table border=\"1\" class=\"dataframe\">\n",
       "  <thead>\n",
       "    <tr style=\"text-align: right;\">\n",
       "      <th></th>\n",
       "      <th>ProductID</th>\n",
       "      <th>ProductName</th>\n",
       "      <th>Category</th>\n",
       "      <th>Price</th>\n",
       "    </tr>\n",
       "  </thead>\n",
       "  <tbody>\n",
       "    <tr>\n",
       "      <th>1</th>\n",
       "      <td>P002</td>\n",
       "      <td>ActiveWear Smartwatch</td>\n",
       "      <td>Electronics</td>\n",
       "      <td>346.30</td>\n",
       "    </tr>\n",
       "    <tr>\n",
       "      <th>3</th>\n",
       "      <td>P004</td>\n",
       "      <td>BookWorld Rug</td>\n",
       "      <td>Home Decor</td>\n",
       "      <td>95.69</td>\n",
       "    </tr>\n",
       "    <tr>\n",
       "      <th>85</th>\n",
       "      <td>P086</td>\n",
       "      <td>SoundWave Novel</td>\n",
       "      <td>Books</td>\n",
       "      <td>440.70</td>\n",
       "    </tr>\n",
       "    <tr>\n",
       "      <th>42</th>\n",
       "      <td>P043</td>\n",
       "      <td>SoundWave Novel</td>\n",
       "      <td>Books</td>\n",
       "      <td>404.40</td>\n",
       "    </tr>\n",
       "    <tr>\n",
       "      <th>89</th>\n",
       "      <td>P090</td>\n",
       "      <td>ComfortLiving Biography</td>\n",
       "      <td>Books</td>\n",
       "      <td>165.30</td>\n",
       "    </tr>\n",
       "    <tr>\n",
       "      <th>63</th>\n",
       "      <td>P064</td>\n",
       "      <td>HomeSense Running Shoes</td>\n",
       "      <td>Clothing</td>\n",
       "      <td>452.42</td>\n",
       "    </tr>\n",
       "    <tr>\n",
       "      <th>56</th>\n",
       "      <td>P057</td>\n",
       "      <td>ActiveWear Smartphone</td>\n",
       "      <td>Electronics</td>\n",
       "      <td>239.70</td>\n",
       "    </tr>\n",
       "    <tr>\n",
       "      <th>76</th>\n",
       "      <td>P077</td>\n",
       "      <td>ActiveWear Smartwatch</td>\n",
       "      <td>Electronics</td>\n",
       "      <td>265.51</td>\n",
       "    </tr>\n",
       "    <tr>\n",
       "      <th>31</th>\n",
       "      <td>P032</td>\n",
       "      <td>BookWorld Cookbook</td>\n",
       "      <td>Books</td>\n",
       "      <td>488.63</td>\n",
       "    </tr>\n",
       "    <tr>\n",
       "      <th>59</th>\n",
       "      <td>P060</td>\n",
       "      <td>HomeSense T-Shirt</td>\n",
       "      <td>Clothing</td>\n",
       "      <td>155.65</td>\n",
       "    </tr>\n",
       "  </tbody>\n",
       "</table>\n",
       "</div>"
      ],
      "text/plain": [
       "   ProductID              ProductName     Category   Price\n",
       "1       P002    ActiveWear Smartwatch  Electronics  346.30\n",
       "3       P004            BookWorld Rug   Home Decor   95.69\n",
       "85      P086          SoundWave Novel        Books  440.70\n",
       "42      P043          SoundWave Novel        Books  404.40\n",
       "89      P090  ComfortLiving Biography        Books  165.30\n",
       "63      P064  HomeSense Running Shoes     Clothing  452.42\n",
       "56      P057    ActiveWear Smartphone  Electronics  239.70\n",
       "76      P077    ActiveWear Smartwatch  Electronics  265.51\n",
       "31      P032       BookWorld Cookbook        Books  488.63\n",
       "59      P060        HomeSense T-Shirt     Clothing  155.65"
      ]
     },
     "execution_count": 8,
     "metadata": {},
     "output_type": "execute_result"
    }
   ],
   "source": [
    "prod.sample(10)"
   ]
  },
  {
   "cell_type": "markdown",
   "metadata": {},
   "source": [
    "### `Clubing all the Data together`"
   ]
  },
  {
   "cell_type": "code",
   "execution_count": 9,
   "metadata": {},
   "outputs": [],
   "source": [
    "total_data = {'Customers': cust, 'Transactions': trans, 'Products': prod}"
   ]
  },
  {
   "cell_type": "code",
   "execution_count": 18,
   "metadata": {},
   "outputs": [
    {
     "name": "stdout",
     "output_type": "stream",
     "text": [
      "Customers has shape (200, 4)\n",
      "\n",
      "Customers has Data Type\n",
      " CustomerID      object\n",
      "CustomerName    object\n",
      "Region          object\n",
      "SignupDate      object\n",
      "dtype: object\n",
      "\n",
      "Customers has null values:\n",
      " CustomerID      0\n",
      "CustomerName    0\n",
      "Region          0\n",
      "SignupDate      0\n",
      "dtype: int64\n",
      "\n",
      "Customers has duplicates: 0\n",
      "\n",
      "Customers has unique values:\n",
      " CustomerID      200\n",
      "CustomerName    200\n",
      "Region            4\n",
      "SignupDate      179\n",
      "dtype: int64\n",
      "\n",
      "<class 'pandas.core.frame.DataFrame'>\n",
      "RangeIndex: 200 entries, 0 to 199\n",
      "Data columns (total 4 columns):\n",
      " #   Column        Non-Null Count  Dtype \n",
      "---  ------        --------------  ----- \n",
      " 0   CustomerID    200 non-null    object\n",
      " 1   CustomerName  200 non-null    object\n",
      " 2   Region        200 non-null    object\n",
      " 3   SignupDate    200 non-null    object\n",
      "dtypes: object(4)\n",
      "memory usage: 6.4+ KB\n",
      "Customers has info:\n",
      " None\n",
      "\n",
      "Transactions has shape (1000, 7)\n",
      "\n",
      "Transactions has Data Type\n",
      " TransactionID       object\n",
      "CustomerID          object\n",
      "ProductID           object\n",
      "TransactionDate     object\n",
      "Quantity             int64\n",
      "TotalValue         float64\n",
      "Price              float64\n",
      "dtype: object\n",
      "\n",
      "Transactions has null values:\n",
      " TransactionID      0\n",
      "CustomerID         0\n",
      "ProductID          0\n",
      "TransactionDate    0\n",
      "Quantity           0\n",
      "TotalValue         0\n",
      "Price              0\n",
      "dtype: int64\n",
      "\n",
      "Transactions has duplicates: 0\n",
      "\n",
      "Transactions has unique values:\n",
      " TransactionID      1000\n",
      "CustomerID          199\n",
      "ProductID           100\n",
      "TransactionDate    1000\n",
      "Quantity              4\n",
      "TotalValue          369\n",
      "Price               100\n",
      "dtype: int64\n",
      "\n",
      "<class 'pandas.core.frame.DataFrame'>\n",
      "RangeIndex: 1000 entries, 0 to 999\n",
      "Data columns (total 7 columns):\n",
      " #   Column           Non-Null Count  Dtype  \n",
      "---  ------           --------------  -----  \n",
      " 0   TransactionID    1000 non-null   object \n",
      " 1   CustomerID       1000 non-null   object \n",
      " 2   ProductID        1000 non-null   object \n",
      " 3   TransactionDate  1000 non-null   object \n",
      " 4   Quantity         1000 non-null   int64  \n",
      " 5   TotalValue       1000 non-null   float64\n",
      " 6   Price            1000 non-null   float64\n",
      "dtypes: float64(2), int64(1), object(4)\n",
      "memory usage: 54.8+ KB\n",
      "Transactions has info:\n",
      " None\n",
      "\n",
      "Products has shape (100, 4)\n",
      "\n",
      "Products has Data Type\n",
      " ProductID       object\n",
      "ProductName     object\n",
      "Category        object\n",
      "Price          float64\n",
      "dtype: object\n",
      "\n",
      "Products has null values:\n",
      " ProductID      0\n",
      "ProductName    0\n",
      "Category       0\n",
      "Price          0\n",
      "dtype: int64\n",
      "\n",
      "Products has duplicates: 0\n",
      "\n",
      "Products has unique values:\n",
      " ProductID      100\n",
      "ProductName     66\n",
      "Category         4\n",
      "Price          100\n",
      "dtype: int64\n",
      "\n",
      "<class 'pandas.core.frame.DataFrame'>\n",
      "RangeIndex: 100 entries, 0 to 99\n",
      "Data columns (total 4 columns):\n",
      " #   Column       Non-Null Count  Dtype  \n",
      "---  ------       --------------  -----  \n",
      " 0   ProductID    100 non-null    object \n",
      " 1   ProductName  100 non-null    object \n",
      " 2   Category     100 non-null    object \n",
      " 3   Price        100 non-null    float64\n",
      "dtypes: float64(1), object(3)\n",
      "memory usage: 3.3+ KB\n",
      "Products has info:\n",
      " None\n",
      "\n"
     ]
    }
   ],
   "source": [
    "for key, value in total_data.items():\n",
    "    print(f'{key} has shape {value.shape}\\n')\n",
    "    print(f'{key} has Data Type\\n {value.dtypes}\\n')\n",
    "    print(f'{key} has null values:\\n {value.isnull().sum()}\\n')\n",
    "    print(f'{key} has duplicates: {value.duplicated().sum()}\\n')\n",
    "    print(f'{key} has unique values:\\n {value.nunique()}\\n')\n",
    "    print(f'{key} has info:\\n {value.info()}\\n')"
   ]
  },
  {
   "cell_type": "markdown",
   "metadata": {},
   "source": [
    "### So there aren't any null values in any of the data.\n",
    "### Also there is not any duplicate values .\n",
    "####    `customer shape (200 , 4)`\n",
    "####    `transaction shape (1000 , 7)`\n",
    "####    `products shape (100 , 4)`\n"
   ]
  },
  {
   "cell_type": "code",
   "execution_count": 22,
   "metadata": {},
   "outputs": [
    {
     "data": {
      "text/plain": [
       "CustomerID\n",
       "C0109    11\n",
       "C0156    11\n",
       "C0008    10\n",
       "C0141    10\n",
       "C0175    10\n",
       "         ..\n",
       "C0033     1\n",
       "C0058     1\n",
       "C0151     1\n",
       "C0078     1\n",
       "C0110     1\n",
       "Name: count, Length: 199, dtype: int64"
      ]
     },
     "execution_count": 22,
     "metadata": {},
     "output_type": "execute_result"
    }
   ],
   "source": [
    "trans[\"CustomerID\"].value_counts()"
   ]
  },
  {
   "cell_type": "markdown",
   "metadata": {},
   "source": [
    "### `Region wise distribution of Customers`"
   ]
  },
  {
   "cell_type": "code",
   "execution_count": 24,
   "metadata": {},
   "outputs": [
    {
     "name": "stderr",
     "output_type": "stream",
     "text": [
      "C:\\Users\\Satyam\\AppData\\Local\\Temp\\ipykernel_19568\\647065203.py:1: FutureWarning: \n",
      "\n",
      "Passing `palette` without assigning `hue` is deprecated and will be removed in v0.14.0. Assign the `x` variable to `hue` and set `legend=False` for the same effect.\n",
      "\n",
      "  sns.countplot(x='Region', data=cust, palette='viridis')\n"
     ]
    },
    {
     "data": {
      "image/png": "[encoded data removed]",
      "text/plain": [
       "<Figure size 640x480 with 1 Axes>"
      ]
     },
     "metadata": {},
     "output_type": "display_data"
    }
   ],
   "source": [
    "\n",
    "sns.countplot(x='Region', data=cust, palette='viridis')\n",
    "plt.title(\"Frequency of Regions\")\n",
    "plt.xlabel(\"Region\")\n",
    "plt.ylabel(\"Frequency\")\n",
    "plt.show()"
   ]
  },
  {
   "cell_type": "markdown",
   "metadata": {},
   "source": [
    "### `Product wise distribution Frequency`"
   ]
  },
  {
   "cell_type": "code",
   "execution_count": 26,
   "metadata": {},
   "outputs": [
    {
     "name": "stderr",
     "output_type": "stream",
     "text": [
      "C:\\Users\\Satyam\\AppData\\Local\\Temp\\ipykernel_19568\\2474883542.py:1: FutureWarning: \n",
      "\n",
      "Passing `palette` without assigning `hue` is deprecated and will be removed in v0.14.0. Assign the `x` variable to `hue` and set `legend=False` for the same effect.\n",
      "\n",
      "  sns.countplot(x='Category', data=prod, palette='viridis')\n"
     ]
    },
    {
     "data": {
      "image/png": "[encoded data removed]",
      "text/plain": [
       "<Figure size 640x480 with 1 Axes>"
      ]
     },
     "metadata": {},
     "output_type": "display_data"
    }
   ],
   "source": [
    "\n",
    "sns.countplot(x='Category', data=prod, palette='viridis')\n",
    "plt.title(\"Frequency of Product Categories\")\n",
    "plt.xlabel(\"Category\")\n",
    "plt.ylabel(\"Frequency\")\n",
    "plt.show()"
   ]
  },
  {
   "cell_type": "code",
   "execution_count": 27,
   "metadata": {},
   "outputs": [],
   "source": [
    "merged = trans.merge(cust, on='CustomerID').merge(prod, on='ProductID')"
   ]
  },
  {
   "cell_type": "markdown",
   "metadata": {},
   "source": [
    "### `Total Revenue By Region`"
   ]
  },
  {
   "cell_type": "code",
   "execution_count": 28,
   "metadata": {},
   "outputs": [
    {
     "name": "stderr",
     "output_type": "stream",
     "text": [
      "C:\\Users\\Satyam\\AppData\\Local\\Temp\\ipykernel_19568\\740920659.py:2: FutureWarning: \n",
      "\n",
      "Passing `palette` without assigning `hue` is deprecated and will be removed in v0.14.0. Assign the `x` variable to `hue` and set `legend=False` for the same effect.\n",
      "\n",
      "  sns.barplot(x='Region', y='TotalValue', data=region_sales, palette='coolwarm')\n"
     ]
    },
    {
     "data": {
      "image/png": "[encoded data removed]",
      "text/plain": [
       "<Figure size 640x480 with 1 Axes>"
      ]
     },
     "metadata": {},
     "output_type": "display_data"
    }
   ],
   "source": [
    "region_sales = merged.groupby('Region')['TotalValue'].sum().reset_index()\n",
    "sns.barplot(x='Region', y='TotalValue', data=region_sales, palette='coolwarm')\n",
    "plt.title(\"Total Revenue by Region\")\n",
    "plt.show()"
   ]
  },
  {
   "cell_type": "code",
   "execution_count": 29,
   "metadata": {},
   "outputs": [],
   "source": [
    "aov = merged.groupby('CustomerID')['TotalValue'].mean().reset_index()"
   ]
  },
  {
   "cell_type": "markdown",
   "metadata": {},
   "source": [
    "### `Average Order Per Value`\n",
    "### showing Normal Distribution"
   ]
  },
  {
   "cell_type": "code",
   "execution_count": 30,
   "metadata": {},
   "outputs": [
    {
     "data": {
      "image/png": "[encoded data removed]",
      "text/plain": [
       "<Figure size 640x480 with 1 Axes>"
      ]
     },
     "metadata": {},
     "output_type": "display_data"
    }
   ],
   "source": [
    "\n",
    "sns.histplot(aov['TotalValue'], kde=True, bins=30)\n",
    "plt.title(\"Average Order Value (AOV) per Customer\")\n",
    "plt.xlabel(\"AOV\")\n",
    "plt.ylabel(\"Frequency\")\n",
    "plt.show()"
   ]
  },
  {
   "cell_type": "code",
   "execution_count": 31,
   "metadata": {},
   "outputs": [],
   "source": [
    "\n",
    "merged['TransactionDate'] = pd.to_datetime(merged['TransactionDate'])\n",
    "merged['Month'] = merged['TransactionDate'].dt.to_period('M')"
   ]
  },
  {
   "cell_type": "code",
   "execution_count": 33,
   "metadata": {},
   "outputs": [],
   "source": [
    "merged['Month'] = merged['Month'].astype(str)"
   ]
  },
  {
   "cell_type": "code",
   "execution_count": 39,
   "metadata": {},
   "outputs": [
    {
     "data": {
      "text/plain": [
       "np.float64(63436.74)"
      ]
     },
     "execution_count": 39,
     "metadata": {},
     "output_type": "execute_result"
    }
   ],
   "source": [
    "merged[merged['Month']=='2024-08']['TotalValue'].sum()"
   ]
  },
  {
   "cell_type": "markdown",
   "metadata": {},
   "source": [
    "### `Calculating Month Wise Total Revenue`"
   ]
  },
  {
   "cell_type": "code",
   "execution_count": 65,
   "metadata": {},
   "outputs": [
    {
     "name": "stdout",
     "output_type": "stream",
     "text": [
      "       Month  Total_Sales\n",
      "0    2023-12      3769.52\n",
      "1    2023-12      3769.52\n",
      "2    2023-12      3769.52\n",
      "3    2023-12      3769.52\n",
      "4    2024-01     66376.39\n",
      "..       ...          ...\n",
      "995  2024-12     59049.20\n",
      "996  2024-12     59049.20\n",
      "997  2024-12     59049.20\n",
      "998  2024-12     59049.20\n",
      "999  2024-12     59049.20\n",
      "\n",
      "[1000 rows x 2 columns]\n"
     ]
    }
   ],
   "source": [
    "# Extract \"Month\" column as a DataFrame\n",
    "new_Data = merged[[\"Month\"]].copy() \n",
    "\n",
    "# Calculate total sales for each month\n",
    "monthly_totals = merged.groupby(\"Month\")[\"TotalValue\"].transform(\"sum\")\n",
    "\n",
    "# Add the Total_Sales column to new_Data\n",
    "new_Data[\"Total_Sales\"] = monthly_totals\n",
    "\n",
    "new_Data = new_Data.sort_values(\"Month\").reset_index(drop=True)\n",
    "\n",
    "print(new_Data)\n"
   ]
  },
  {
   "cell_type": "code",
   "execution_count": 66,
   "metadata": {},
   "outputs": [
    {
     "data": {
      "image/png": "[encoded data removed]",
      "text/plain": [
       "<Figure size 640x480 with 1 Axes>"
      ]
     },
     "metadata": {},
     "output_type": "display_data"
    }
   ],
   "source": [
    "sns.lineplot(x='Month', y='Total_Sales', data=new_Data, marker='o')\n",
    "plt.title(\"Monthly Sales Trends\")\n",
    "plt.xlabel(\"Month\")\n",
    "plt.ylabel(\"Total Sales\")\n",
    "plt.xticks(rotation=45)\n",
    "plt.show()"
   ]
  },
  {
   "cell_type": "markdown",
   "metadata": {},
   "source": [
    "### `Total Revenue through the transactions`"
   ]
  },
  {
   "cell_type": "code",
   "execution_count": 67,
   "metadata": {},
   "outputs": [
    {
     "name": "stdout",
     "output_type": "stream",
     "text": [
      "Total Revenue:  689995.56\n"
     ]
    }
   ],
   "source": [
    "\n",
    "total_revenue = merged['TotalValue'].sum()\n",
    "print(\"Total Revenue: \", total_revenue)"
   ]
  },
  {
   "cell_type": "markdown",
   "metadata": {},
   "source": [
    "### `Identification of Top 10 Products through Sales`"
   ]
  },
  {
   "cell_type": "code",
   "execution_count": 68,
   "metadata": {},
   "outputs": [
    {
     "name": "stdout",
     "output_type": "stream",
     "text": [
      "Top 10 Most Profitable Products:\n",
      " ProductName\n",
      "ActiveWear Smartwatch      39096.97\n",
      "SoundWave Headphones       25211.64\n",
      "SoundWave Novel            24507.90\n",
      "ActiveWear Jacket          22712.56\n",
      "ActiveWear Rug             22314.43\n",
      "TechPro Headphones         19513.80\n",
      "BookWorld Cookbook         19221.99\n",
      "BookWorld Sweater          18743.79\n",
      "TechPro Textbook           18267.96\n",
      "ActiveWear Cookware Set    18083.73\n",
      "Name: TotalValue, dtype: float64\n"
     ]
    }
   ],
   "source": [
    "\n",
    "top_products = merged.groupby('ProductName')['TotalValue'].sum().sort_values(ascending=False).head(10)\n",
    "print(\"Top 10 Most Profitable Products:\\n\", top_products)"
   ]
  },
  {
   "cell_type": "markdown",
   "metadata": {},
   "source": [
    "### `Region wise Revenue`"
   ]
  },
  {
   "cell_type": "code",
   "execution_count": 69,
   "metadata": {},
   "outputs": [
    {
     "name": "stdout",
     "output_type": "stream",
     "text": [
      "Revenue by Region:\n",
      " Region\n",
      "Asia             152074.97\n",
      "Europe           166254.63\n",
      "North America    152313.40\n",
      "South America    219352.56\n",
      "Name: TotalValue, dtype: float64\n"
     ]
    }
   ],
   "source": [
    "region_revenue = merged.groupby('Region')['TotalValue'].sum()\n",
    "print(\"Revenue by Region:\\n\", region_revenue)"
   ]
  },
  {
   "cell_type": "markdown",
   "metadata": {},
   "source": [
    "### `Customer Retention Calculation`"
   ]
  },
  {
   "cell_type": "code",
   "execution_count": 73,
   "metadata": {},
   "outputs": [
    {
     "name": "stdout",
     "output_type": "stream",
     "text": [
      "Repeat Customers: 187/200 (93.50%)\n"
     ]
    }
   ],
   "source": [
    "repeat_customers = merged['CustomerID'].value_counts()\n",
    "\n",
    "repeat_customers = repeat_customers[repeat_customers > 1].count()\n",
    "total_customers = cust['CustomerID'].nunique()\n",
    "\n",
    "print(f\"Repeat Customers: {repeat_customers}/{total_customers} ({(repeat_customers/total_customers)*100:.2f}%)\")\n"
   ]
  },
  {
   "cell_type": "code",
   "execution_count": null,
   "metadata": {},
   "outputs": [],
   "source": []
  }
 ],
 "metadata": {
  "kernelspec": {
   "display_name": "satyam",
   "language": "python",
   "name": "python3"
  },
  "language_info": {
   "codemirror_mode": {
    "name": "ipython",
    "version": 3
   },
   "file_extension": ".py",
   "mimetype": "text/x-python",
   "name": "python",
   "nbconvert_exporter": "python",
   "pygments_lexer": "ipython3",
   "version": "3.12.6"
  }
 },
 "nbformat": 4,
 "nbformat_minor": 2
}
